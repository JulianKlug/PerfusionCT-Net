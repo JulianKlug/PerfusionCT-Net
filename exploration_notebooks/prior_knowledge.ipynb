{
 "cells": [
  {
   "cell_type": "markdown",
   "metadata": {
    "collapsed": true,
    "pycharm": {
     "name": "#%% md\n"
    }
   },
   "source": [
    "# Creating prior knowledge masks (Penumbra & Core)\n",
    "Penumbra and Core are known at time of acute imaging and are essential components to the final infarct. Integrating these priors in a model could yield better results.\n",
    "\n",
    "One Perfusion imaging:\n",
    "- Penumbra is defined with Tmax > 6s\n",
    "- Core is defined as rCBF < 30%"
   ]
  },
  {
   "cell_type": "code",
   "execution_count": null,
   "metadata": {
    "pycharm": {
     "name": "#%%\n"
    }
   },
   "outputs": [],
   "source": [
    "import sys, os\n",
    "sys.path.insert(0, '../')\n",
    "import numpy as np\n",
    "from gsprep.visual_tools.visual import display, idisplay\n",
    "from gsprep.visual_tools.dataset_visualization import visualize_dataset\n",
    "from gsprep.visual_tools.dataset_histograms import plot_per_sample_histograms, plot_histogram\n",
    "from scipy.ndimage.filters import gaussian_filter\n",
    "import scipy.ndimage.morphology as ndimage\n",
    "from skimage.morphology import ball"
   ]
  },
  {
   "cell_type": "code",
   "execution_count": null,
   "metadata": {
    "pycharm": {
     "name": "#%%\n"
    }
   },
   "outputs": [],
   "source": [
    "dataset_path = '/Users/julian/temp/perfusion_data_sets/rescaled_with_ncct_dataset.npz'\n",
    "n_subj = 144\n",
    "\n",
    "raw_images = np.load(dataset_path, allow_pickle=True)['ct_inputs'][:n_subj].astype(np.float64)\n",
    "raw_labels = np.load(dataset_path, allow_pickle=True)['ct_lesion_GT'][:n_subj].astype(np.uint8)\n",
    "# raw_labels = np.load(dataset_path, allow_pickle=True)['lesion_GT'][:n_subj].astype(np.float64)\n",
    "raw_mask = np.load(dataset_path, allow_pickle=True)['brain_masks'][:n_subj]\n",
    "params = np.load(dataset_path, allow_pickle=True)['params']\n",
    "\n",
    "n_subj, n_x, n_y, n_z, n_c = raw_images.shape\n",
    "raw_images.shape"
   ]
  },
  {
   "cell_type": "markdown",
   "metadata": {
    "pycharm": {
     "is_executing": true,
     "name": "#%% md\n"
    }
   },
   "source": [
    "Define helper functions\n",
    "\n"
   ]
  },
  {
   "cell_type": "code",
   "execution_count": null,
   "metadata": {
    "pycharm": {
     "name": "#%%\n"
    }
   },
   "outputs": [],
   "source": [
    "def gaussian_smoothing(data, kernel_width=5, threeD=False):\n",
    "    '''\n",
    "    Smooth a set of n images with a 2D gaussian kernel on their x, y planes iterating through z\n",
    "    if threeD is set to false; Every plane in z is smoothed independently\n",
    "    Every channel is smoothed independently\n",
    "    :param data: images to smooth (n, x, y, z, c)\n",
    "    :param kernel_width: 2D or 3D kernel width\n",
    "        Default width is 5 vxl - (stroke dataset: 10mm width), ie. 5mm radius as inspired by\n",
    "        Campbell Bruce C.V., Christensen Søren, Levi Christopher R., Desmond Patricia M., Donnan Geoffrey A., Davis Stephen M., et al. Cerebral Blood Flow Is the Optimal CT Perfusion Parameter for Assessing Infarct Core. Stroke. 2011 Dec 1;42(12):3435–40.\n",
    "    :param threeD, default False: exert smoothing in all 3 spatial dimensions and not only 2\n",
    "    :return: smoothed_data\n",
    "    '''\n",
    "    if len(data.shape) != 5:\n",
    "        raise ValueError('Shape of data to smooth should be (n, x, y, z, c) and not', data.shape)\n",
    "\n",
    "    sigma = kernel_width / 3\n",
    "    truncate = ((kernel_width - 1) / 2 - 0.5) / sigma\n",
    "    smoothed_data = np.empty(data.shape)\n",
    "\n",
    "    for i in range(data.shape[0]):\n",
    "        for c in range(data.shape[4]):\n",
    "            if not threeD:\n",
    "                for z in range(data.shape[3]):\n",
    "                    smoothed_data[i, :, :, z, c] = gaussian_filter(data[i, :, :, z, c], kernel_width / 3,\n",
    "                                                                   truncate=truncate)\n",
    "            else:\n",
    "                smoothed_data[i, :, :, :, c] = gaussian_filter(data[i, :, :, :, c], kernel_width/3, truncate=truncate)\n",
    "\n",
    "    return smoothed_data\n",
    "\n",
    "\n",
    "def normalise_by_contralateral_median(data):\n",
    "    '''\n",
    "    Normalise an image by dividing every voxel by the median voxel value of the contralateral side\n",
    "    :param data: image input data for all subjects in form of an np array [n_subj, x, y, z, c]\n",
    "    :return: normalised array\n",
    "    '''\n",
    "\n",
    "    normalised_data = np.empty(data.shape)\n",
    "\n",
    "    for subj in range(data.shape[0]):\n",
    "        subj_data = data[subj]\n",
    "        subj_normalised_data = subj_data.copy()\n",
    "        x_center = subj_data.shape[0] // 2\n",
    "        left_side_set_off = x_center\n",
    "        if subj_data.shape[0] % 2 == 0:\n",
    "            # if number voxels along x is even, split in the middle\n",
    "            right_side_set_off = x_center\n",
    "        else:\n",
    "            # if number voxels along x is uneven leave out the middle voxel line\n",
    "            right_side_set_off = x_center + 1\n",
    "\n",
    "        # normalise left side\n",
    "        right_side = subj_data[right_side_set_off:]\n",
    "        right_side_median = np.median(right_side[np.nonzero(right_side)])\n",
    "        subj_normalised_data[:left_side_set_off] = np.divide(subj_data[:left_side_set_off], right_side_median)\n",
    "\n",
    "        # normalise right side\n",
    "        left_side = subj_data[:left_side_set_off]\n",
    "        left_side_median = np.median(left_side[np.nonzero(left_side)])\n",
    "        subj_normalised_data[right_side_set_off:] = np.divide(subj_data[right_side_set_off:], left_side_median)\n",
    "\n",
    "        if subj_data.shape[0] % 2 != 0:\n",
    "            x_para_median_slices_mean = np.mean([\n",
    "                                            np.mean(subj_data[x_center - 1][np.nonzero(subj_data[x_center - 1])]),\n",
    "                                            np.mean(subj_data[x_center + 1][np.nonzero(subj_data[x_center + 1])])\n",
    "                                        ])\n",
    "            subj_normalised_data[x_center] = np.divide(subj_data[x_center], x_para_median_slices_mean)\n",
    "\n",
    "        normalised_data[subj] = subj_normalised_data\n",
    "\n",
    "    return normalised_data"
   ]
  },
  {
   "cell_type": "markdown",
   "metadata": {
    "pycharm": {
     "name": "#%% md\n"
    }
   },
   "source": [
    "## Create CSF mask\n",
    "\n",
    "As false negative CSF masks can be harmful to the model, a safety margins is added and the csf mask is enlarged."
   ]
  },
  {
   "cell_type": "code",
   "execution_count": null,
   "metadata": {
    "pycharm": {
     "name": "#%%\n"
    }
   },
   "outputs": [],
   "source": [
    "ncct_channel = 4\n",
    "threshold = 20\n",
    "csf_mask = gaussian_smoothing(raw_images[..., ncct_channel, None], kernel_width=3) < threshold\n",
    "enlarged_csf_mask = np.array([ndimage.binary_dilation(csf_mask[idx, ..., 0], structure=ball(2)) for idx in range(csf_mask.shape[0])])\n",
    "inv_csf_mask = -1 * enlarged_csf_mask + 1\n",
    "inv_csf_mask.shape"
   ]
  },
  {
   "cell_type": "code",
   "execution_count": null,
   "metadata": {
    "pycharm": {
     "name": "#%%\n"
    }
   },
   "outputs": [],
   "source": [
    "display(raw_images[0, ..., 4], mask=enlarged_csf_mask[0])"
   ]
  },
  {
   "cell_type": "markdown",
   "metadata": {
    "pycharm": {
     "is_executing": true,
     "name": "#%% md\n"
    }
   },
   "source": [
    "## Create skull mask\n",
    "\n",
    "Better way: Use gsprep skull_stripping"
   ]
  },
  {
   "cell_type": "code",
   "execution_count": null,
   "metadata": {
    "pycharm": {
     "name": "#%%\n"
    }
   },
   "outputs": [],
   "source": [
    "ncct_channel = 4\n",
    "threshold = np.percentile(raw_images[..., ncct_channel], 90)\n",
    "skull_mask = gaussian_smoothing(raw_images[..., ncct_channel, None], kernel_width=3) > threshold\n",
    "enlarged_skull_mask = np.array([ndimage.binary_dilation(skull_mask[idx, ..., 0], structure=ball(2)) for idx in range(skull_mask.shape[0])])\n",
    "inv_skull_mask = -1 * enlarged_skull_mask + 1"
   ]
  },
  {
   "cell_type": "code",
   "execution_count": null,
   "metadata": {
    "pycharm": {
     "name": "#%%\n"
    }
   },
   "outputs": [],
   "source": [
    "display(raw_images[0, ..., 4], mask=enlarged_skull_mask[0])"
   ]
  },
  {
   "cell_type": "markdown",
   "metadata": {},
   "source": [
    "## Create major vessel mask\n",
    "\n",
    "Major vessels create false positive signal on Tmax masks, but are easily recognisable on CBF\n",
    "\n",
    "Better way to do this: Segment on VPCT?"
   ]
  },
  {
   "cell_type": "code",
   "execution_count": null,
   "metadata": {
    "pycharm": {
     "name": "#%%\n"
    }
   },
   "outputs": [],
   "source": [
    "cbf_channel = 1\n",
    "threshold = np.percentile(raw_images[..., cbf_channel], 99)\n",
    "vessel_mask = raw_images[..., cbf_channel] > threshold\n",
    "enlarged_vessel_mask = np.array([ndimage.binary_dilation(vessel_mask[idx], structure=ball(2)) for idx in range(vessel_mask.shape[0])])\n",
    "vessel_mask = enlarged_vessel_mask\n",
    "inv_vessel_mask = -1 * vessel_mask + 1"
   ]
  },
  {
   "cell_type": "code",
   "execution_count": null,
   "metadata": {
    "pycharm": {
     "name": "#%%\n"
    }
   },
   "outputs": [],
   "source": [
    "subj_idx = 1\n",
    "display(raw_images[subj_idx,...,cbf_channel], mask=vessel_mask[subj_idx])\n",
    "display(vessel_mask[subj_idx])"
   ]
  },
  {
   "cell_type": "markdown",
   "metadata": {
    "pycharm": {
     "name": "#%% md\n"
    }
   },
   "source": [
    "## Create Penumbra mask"
   ]
  },
  {
   "cell_type": "code",
   "execution_count": null,
   "metadata": {
    "pycharm": {
     "name": "#%%\n"
    }
   },
   "outputs": [],
   "source": [
    "raw_penumbra_masks = raw_images[..., 0] > 6\n",
    "smooth_penumbra_masks = gaussian_smoothing(raw_images[..., 0, None], kernel_width=3) > 6\n",
    "corr_csf_penumbra_masks = smooth_penumbra_masks * inv_csf_mask[..., None] # correct for CSF\n",
    "corr_vx_penumbra_masks = corr_csf_penumbra_masks * inv_vessel_mask[..., None] # correct for CSF\n",
    "# Todo correct for vessels"
   ]
  },
  {
   "cell_type": "code",
   "execution_count": null,
   "metadata": {
    "pycharm": {
     "name": "#%%\n"
    }
   },
   "outputs": [],
   "source": [
    "subj_idx = 5\n",
    "display(raw_penumbra_masks[subj_idx])\n",
    "display(smooth_penumbra_masks[subj_idx])\n",
    "display(corr_csf_penumbra_masks[subj_idx, ..., 0])\n",
    "display(corr_vx_penumbra_masks[subj_idx, ..., 0])\n",
    "display(raw_images[subj_idx, ..., 0])\n"
   ]
  },
  {
   "cell_type": "markdown",
   "metadata": {
    "pycharm": {
     "is_executing": true,
     "name": "#%% md\n"
    }
   },
   "source": [
    "## Create Core mask\n",
    "\n"
   ]
  },
  {
   "cell_type": "code",
   "execution_count": null,
   "metadata": {
    "pycharm": {
     "name": "#%%\n"
    }
   },
   "outputs": [],
   "source": [
    "rCBF = normalise_by_contralateral_median(raw_images[..., 1])\n",
    "smooth_rCBF = normalise_by_contralateral_median(gaussian_smoothing(raw_images[..., 1, None], kernel_width=2))\n",
    "raw_core_masks = rCBF < 0.38\n",
    "smooth_core_masks = smooth_rCBF < 0.38\n",
    "corr_csf_core_masks = smooth_core_masks * inv_csf_mask[..., None]\n",
    "corr_vx_core_masks = corr_csf_core_masks * inv_vessel_mask[..., None]\n",
    "corr_skull_core_masks = corr_vx_core_masks * inv_skull_mask[..., None]"
   ]
  },
  {
   "cell_type": "code",
   "execution_count": null,
   "metadata": {
    "pycharm": {
     "name": "#%%\n"
    }
   },
   "outputs": [],
   "source": [
    "subj_idx = 5\n",
    "display(raw_images[subj_idx, ..., 1])\n",
    "display(raw_core_masks[subj_idx])\n",
    "display(smooth_core_masks[subj_idx])\n",
    "display(corr_csf_core_masks[subj_idx])\n",
    "display(corr_vx_core_masks[subj_idx])\n",
    "display(corr_skull_core_masks[subj_idx])\n",
    "display(raw_images[subj_idx, ...,0], mask=raw_labels[subj_idx])"
   ]
  },
  {
   "cell_type": "markdown",
   "metadata": {
    "pycharm": {
     "name": "#%% md\n"
    }
   },
   "source": [
    "Restrict to defined brain mask\n"
   ]
  },
  {
   "cell_type": "code",
   "execution_count": null,
   "metadata": {
    "pycharm": {
     "name": "#%%\n"
    }
   },
   "outputs": [],
   "source": [
    "restr_core = corr_skull_core_masks * raw_mask[..., None]\n",
    "restr_penumbra = corr_vx_penumbra_masks * raw_mask[..., None]"
   ]
  },
  {
   "cell_type": "code",
   "execution_count": null,
   "metadata": {
    "pycharm": {
     "name": "#%%\n"
    }
   },
   "outputs": [],
   "source": [
    "subj_idx = 60\n",
    "display(raw_images[subj_idx, ...,0], mask=restr_penumbra[subj_idx])\n",
    "display(raw_images[subj_idx, ...,0], mask=restr_core[subj_idx])\n",
    "display(raw_labels[subj_idx])\n"
   ]
  },
  {
   "cell_type": "markdown",
   "metadata": {
    "pycharm": {
     "name": "#%% md\n"
    }
   },
   "source": [
    "Stats\n"
   ]
  },
  {
   "cell_type": "code",
   "execution_count": null,
   "metadata": {
    "pycharm": {
     "name": "#%%\n"
    }
   },
   "outputs": [],
   "source": [
    "# GT in penumbra\n",
    "np.sum(restr_penumbra[..., 0] * raw_labels) / np.sum(raw_labels)\n"
   ]
  },
  {
   "cell_type": "code",
   "execution_count": null,
   "metadata": {
    "pycharm": {
     "name": "#%%\n"
    }
   },
   "outputs": [],
   "source": [
    "# Core in GT\n",
    "np.sum(restr_core[..., 0] * raw_labels) / np.sum(restr_core)\n",
    "\n"
   ]
  },
  {
   "cell_type": "code",
   "execution_count": null,
   "metadata": {
    "pycharm": {
     "name": "#%%\n"
    }
   },
   "outputs": [],
   "source": [
    "core_not_in_label = restr_core.copy()\n",
    "core_not_in_label[raw_labels == 1] = 0\n"
   ]
  },
  {
   "cell_type": "code",
   "execution_count": null,
   "metadata": {
    "pycharm": {
     "name": "#%%\n"
    }
   },
   "outputs": [],
   "source": [
    "subj_idx = 100\n",
    "idisplay(raw_images[subj_idx, ...,0], mask=core_not_in_label[subj_idx])\n"
   ]
  },
  {
   "cell_type": "code",
   "execution_count": null,
   "metadata": {},
   "outputs": [],
   "source": []
  }
 ],
 "metadata": {
  "kernelspec": {
   "display_name": "Python 3",
   "language": "python",
   "name": "python3"
  },
  "language_info": {
   "codemirror_mode": {
    "name": "ipython",
    "version": 3
   },
   "file_extension": ".py",
   "mimetype": "text/x-python",
   "name": "python",
   "nbconvert_exporter": "python",
   "pygments_lexer": "ipython3",
   "version": "3.7.7"
  }
 },
 "nbformat": 4,
 "nbformat_minor": 1
}