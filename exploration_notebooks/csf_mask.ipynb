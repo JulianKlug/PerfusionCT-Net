{
 "cells": [
  {
   "cell_type": "markdown",
   "metadata": {},
   "source": [
    "# Creation of a CSF mask\n",
    "Goal: Avoid False Positives on ventricles"
   ]
  },
  {
   "cell_type": "code",
   "execution_count": null,
   "metadata": {
    "pycharm": {
     "name": "#%%\n"
    }
   },
   "outputs": [],
   "source": [
    "import sys, os\n",
    "sys.path.insert(0, '../')\n",
    "import numpy as np\n",
    "from gsprep.visual_tools.visual import display, idisplay\n",
    "from gsprep.visual_tools.dataset_visualization import visualize_dataset\n",
    "from gsprep.visual_tools.dataset_histograms import plot_per_sample_histograms, plot_histogram\n",
    "from scipy.ndimage.filters import gaussian_filter"
   ]
  },
  {
   "cell_type": "code",
   "execution_count": null,
   "metadata": {
    "pycharm": {
     "name": "#%%\n"
    }
   },
   "outputs": [],
   "source": [
    "dataset_path = '/Users/julian/temp/perfusion_data_sets/rescaled_with_ncct_dataset.npz'\n",
    "n_subj = 144\n",
    "\n",
    "raw_images = np.load(dataset_path, allow_pickle=True)['ct_inputs'][:n_subj].astype(np.float64)\n",
    "raw_labels = np.load(dataset_path, allow_pickle=True)['ct_lesion_GT'][:n_subj].astype(np.uint8)\n",
    "# raw_labels = np.load(dataset_path, allow_pickle=True)['lesion_GT'][:n_subj].astype(np.float64)\n",
    "raw_mask = np.load(dataset_path, allow_pickle=True)['brain_masks'][:n_subj]\n",
    "params = np.load(dataset_path, allow_pickle=True)['params']\n",
    "\n",
    "n_subj, n_x, n_y, n_z, n_c = raw_images.shape\n",
    "raw_images.shape"
   ]
  },
  {
   "cell_type": "code",
   "execution_count": null,
   "metadata": {
    "pycharm": {
     "name": "#%%\n"
    }
   },
   "outputs": [],
   "source": [
    "channel = 4\n",
    "plot_per_sample_histograms(raw_images[..., channel], log=True, title='NCCT', figsize=(10, 100))\n",
    "\n"
   ]
  },
  {
   "cell_type": "code",
   "execution_count": null,
   "metadata": {
    "pycharm": {
     "name": "#%%\n"
    }
   },
   "outputs": [],
   "source": [
    "plot_histogram(raw_images[0, ..., channel], alpha=1)\n"
   ]
  },
  {
   "cell_type": "code",
   "execution_count": null,
   "outputs": [],
   "source": [
    "def gaussian_smoothing(data, kernel_width=5, threeD=False):\n",
    "    '''\n",
    "    Smooth a set of n images with a 2D gaussian kernel on their x, y planes iterating through z\n",
    "    if threeD is set to false; Every plane in z is smoothed independently\n",
    "    Every channel is smoothed independently\n",
    "    :param data: images to smooth (n, x, y, z, c)\n",
    "    :param kernel_width: 2D or 3D kernel width\n",
    "        Default width is 5 vxl - (stroke dataset: 10mm width), ie. 5mm radius as inspired by\n",
    "        Campbell Bruce C.V., Christensen Søren, Levi Christopher R., Desmond Patricia M., Donnan Geoffrey A., Davis Stephen M., et al. Cerebral Blood Flow Is the Optimal CT Perfusion Parameter for Assessing Infarct Core. Stroke. 2011 Dec 1;42(12):3435–40.\n",
    "    :param threeD, default False: exert smoothing in all 3 spatial dimensions and not only 2\n",
    "    :return: smoothed_data\n",
    "    '''\n",
    "    if len(data.shape) != 5:\n",
    "        raise ValueError('Shape of data to smooth should be (n, x, y, z, c) and not', data.shape)\n",
    "\n",
    "    sigma = kernel_width / 3\n",
    "    truncate = ((kernel_width - 1) / 2 - 0.5) / sigma\n",
    "    smoothed_data = np.empty(data.shape)\n",
    "\n",
    "    for i in range(data.shape[0]):\n",
    "        for c in range(data.shape[4]):\n",
    "            if not threeD:\n",
    "                for z in range(data.shape[3]):\n",
    "                    smoothed_data[i, :, :, z, c] = gaussian_filter(data[i, :, :, z, c], kernel_width / 3,\n",
    "                                                                   truncate=truncate)\n",
    "            else:\n",
    "                smoothed_data[i, :, :, :, c] = gaussian_filter(data[i, :, :, :, c], kernel_width/3, truncate=truncate)\n",
    "\n",
    "    return smoothed_data"
   ],
   "metadata": {
    "collapsed": false,
    "pycharm": {
     "name": "#%%\n"
    }
   }
  },
  {
   "cell_type": "code",
   "execution_count": null,
   "metadata": {
    "pycharm": {
     "name": "#%%\n"
    }
   },
   "outputs": [],
   "source": [
    "subj_idx = 13\n",
    "threshold = 20\n",
    "display(raw_images[subj_idx, ..., channel], mask=raw_images[None, subj_idx, ..., channel, None]<threshold)\n",
    "display(raw_images[subj_idx, ..., channel], mask=gaussian_smoothing(raw_images[None, subj_idx, ..., channel, None], kernel_width=3)<threshold)\n",
    "display(raw_images[subj_idx, ..., channel], mask=-1 * raw_mask[subj_idx] + 1)\n",
    "display(raw_images[subj_idx, ..., channel])\n",
    "np.mean(raw_images[subj_idx, ..., channel]), np.std(raw_images[subj_idx, ..., channel]), (threshold - np.mean(raw_images[subj_idx, ..., channel])) / np.std(raw_images[subj_idx, ..., channel])"
   ]
  },
  {
   "cell_type": "code",
   "execution_count": null,
   "metadata": {
    "pycharm": {
     "name": "#%%\n"
    }
   },
   "outputs": [],
   "source": [
    "idisplay(raw_images[subj_idx, ..., channel], mask=raw_mask[subj_idx])"
   ]
  },
  {
   "cell_type": "code",
   "execution_count": null,
   "outputs": [],
   "source": [
    "ncct_with_csf_mask = np.concatenate((raw_images[..., channel, None], raw_images[ ..., channel, None]<20), axis=-1)\n",
    "visualize_dataset(ncct_with_csf_mask, ['NCCT', 'CSF'], range(n_subj), os.path.dirname(dataset_path))"
   ],
   "metadata": {
    "collapsed": false,
    "pycharm": {
     "name": "#%%\n"
    }
   }
  }
 ],
 "metadata": {
  "kernelspec": {
   "display_name": "Python 3",
   "language": "python",
   "name": "python3"
  },
  "language_info": {
   "codemirror_mode": {
    "name": "ipython",
    "version": 3
   },
   "file_extension": ".py",
   "mimetype": "text/x-python",
   "name": "python",
   "nbconvert_exporter": "python",
   "pygments_lexer": "ipython3",
   "version": "3.7.7"
  }
 },
 "nbformat": 4,
 "nbformat_minor": 1
}