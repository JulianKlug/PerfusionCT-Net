{
 "cells": [
  {
   "cell_type": "code",
   "execution_count": null,
   "metadata": {
    "collapsed": true
   },
   "outputs": [],
   "source": [
    "import sys\n",
    "sys.path.insert(0, '../')\n",
    "import numpy as np\n",
    "import torch\n",
    "import matplotlib.pyplot as plt\n",
    "from dataio.transformation.imageTransformations import RandomFlipTransform, RandomElasticTransform, RandomAffineTransform, RandomNoiseTransform\n",
    "from gsprep.visual_tools.visual import display"
   ]
  },
  {
   "cell_type": "code",
   "execution_count": null,
   "outputs": [],
   "source": [
    "dataset_path = '/Users/julian/stroke_research/data/all_2017_2016/data_set.npz'\n",
    "channel = 0\n",
    "subj_id = None\n",
    "subj = 1\n",
    "ids = np.load(dataset_path, allow_pickle=True)['ids']\n",
    "if subj_id is not None:\n",
    "    subj = np.argwhere(ids==subj_id)[0, 0]\n",
    "\n",
    "raw_images = np.load(dataset_path, allow_pickle=True)['ct_inputs'][subj][..., channel].astype(np.float64)\n",
    "# raw_labels = np.load(dataset_path, allow_pickle=True)['ct_lesion_GT'][subj].astype(np.uint8)\n",
    "raw_labels = np.load(dataset_path, allow_pickle=True)['lesion_GT'][subj].astype(np.float64)\n",
    "raw_mask = np.load(dataset_path, allow_pickle=True)['brain_masks'][subj]\n",
    "\n",
    "raw_images.shape"
   ],
   "metadata": {
    "collapsed": false,
    "pycharm": {
     "name": "#%%\n"
    }
   }
  },
  {
   "cell_type": "code",
   "execution_count": null,
   "outputs": [],
   "source": [
    "display(raw_images, mask=raw_labels)\n",
    "plt.imshow(raw_images[..., 45], cmap='gray')\n",
    "plt.imshow(raw_labels[..., 45], cmap='Blues', alpha=0.4)"
   ],
   "metadata": {
    "collapsed": false,
    "pycharm": {
     "name": "#%%\n"
    }
   }
  },
  {
   "cell_type": "code",
   "execution_count": null,
   "outputs": [],
   "source": [
    "images, labels = torch.from_numpy(np.expand_dims(raw_images, axis=-1)), \\\n",
    "                 torch.from_numpy(np.expand_dims(raw_labels, axis=-1))\n",
    "\n",
    "seed = 7533\n",
    "max_output_channels = 2\n",
    "images.shape"
   ],
   "metadata": {
    "collapsed": false,
    "pycharm": {
     "name": "#%%\n"
    }
   }
  },
  {
   "cell_type": "code",
   "execution_count": null,
   "outputs": [],
   "source": [
    "flip_axis = (2)\n",
    "random_flip_prob = 1\n",
    "flip = RandomFlipTransform(axes=flip_axis, flip_probability=1, p=random_flip_prob, seed=seed, max_output_channels=max_output_channels)\n",
    "flipped_image, flipped_label = flip(images, labels)\n",
    "\n",
    "display(flipped_image.numpy(), mask=flipped_label.numpy())"
   ],
   "metadata": {
    "collapsed": false,
    "pycharm": {
     "name": "#%%\n"
    }
   }
  },
  {
   "cell_type": "code",
   "execution_count": null,
   "outputs": [],
   "source": [
    "elastic = RandomElasticTransform(max_displacement=[15, 15, 5],\n",
    "                                   num_control_points=(7, 7, 7),\n",
    "                                   image_interpolation='bspline',\n",
    "                                   seed=seed, p=1,\n",
    "                                   max_output_channels=max_output_channels, verbose=True)\n",
    "\n",
    "elastic_image, elastic_label = elastic(images, labels)\n",
    "\n",
    "plt.imshow(elastic_image.numpy()[..., 45, 0], cmap='gray')\n",
    "plt.imshow(elastic_label.numpy()[..., 45, 0], cmap='Blues', alpha=0.4)\n",
    "\n",
    "display(elastic_image.numpy(), mask=elastic_label.numpy())"
   ],
   "metadata": {
    "collapsed": false,
    "pycharm": {
     "name": "#%%\n"
    }
   }
  },
  {
   "cell_type": "code",
   "execution_count": null,
   "outputs": [],
   "source": [
    "shift_val = (5, 5)  # translation range\n",
    "rotate_val = (5, 5)  # rotation range\n",
    "scale_val = (1.1, 1.1) # scaling range\n",
    "\n",
    "affine = RandomAffineTransform(scales=scale_val, degrees=rotate_val, translation=shift_val,\n",
    "                                  isotropic=True, default_pad_value=0,\n",
    "                                  image_interpolation='bspline', seed=seed, p=1,\n",
    "                                  max_output_channels=max_output_channels, verbose=True)\n",
    "\n",
    "affine_image, affine_label = affine(images, labels)\n",
    "\n",
    "display(affine_image.numpy(), mask=affine_label.numpy())\n",
    "plt.imshow(affine_image.numpy()[..., 35, 0], cmap='gray')\n",
    "plt.imshow(affine_label.numpy()[..., 35, 0], cmap='Blues', alpha=0.4)"
   ],
   "metadata": {
    "collapsed": false,
    "pycharm": {
     "name": "#%%\n"
    }
   }
  },
  {
   "cell_type": "code",
   "execution_count": null,
   "outputs": [],
   "source": [
    "noise_mean = np.mean(raw_images[raw_mask]) # find appropriate mean by taking mean of masked image\n",
    "print('Mean of input image:', noise_mean)\n",
    "noise_std = (0.75, 0.75)  # range of noise std\n",
    "\n",
    "noise = RandomNoiseTransform(mean=noise_mean, std=noise_std, seed=seed, p=1,\n",
    "                                 max_output_channels=max_output_channels)\n",
    "\n",
    "noise_image, noise_label = noise(images, labels)\n",
    "\n",
    "display(noise_image.numpy(), mask=noise_label.numpy())\n",
    "plt.imshow(noise_image.numpy()[..., 35, 0], cmap='gray')"
   ],
   "metadata": {
    "collapsed": false,
    "pycharm": {
     "name": "#%%\n"
    }
   }
  },
  {
   "cell_type": "code",
   "execution_count": null,
   "outputs": [],
   "source": [
    "\n"
   ],
   "metadata": {
    "collapsed": false,
    "pycharm": {
     "name": "#%%\n"
    }
   }
  }
 ],
 "metadata": {
  "kernelspec": {
   "name": "pycharm-346b7142",
   "language": "python",
   "display_name": "PyCharm (pCT_UNET)"
  },
  "language_info": {
   "codemirror_mode": {
    "name": "ipython",
    "version": 2
   },
   "file_extension": ".py",
   "mimetype": "text/x-python",
   "name": "python",
   "nbconvert_exporter": "python",
   "pygments_lexer": "ipython2",
   "version": "2.7.6"
  }
 },
 "nbformat": 4,
 "nbformat_minor": 0
}