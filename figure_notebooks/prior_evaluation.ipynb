{
 "cells": [
  {
   "cell_type": "code",
   "execution_count": 12,
   "outputs": [],
   "source": [
    "import numpy as np\n",
    "from sklearn.metrics import precision_score, recall_score\n",
    "from sklearn.model_selection import train_test_split\n",
    "from utils.metrics import single_class_dice_score, specificity\n"
   ],
   "metadata": {
    "collapsed": false,
    "pycharm": {
     "name": "#%%\n"
    }
   }
  },
  {
   "cell_type": "code",
   "execution_count": 46,
   "metadata": {
    "collapsed": true
   },
   "outputs": [],
   "source": [
    "# dataset_path = '/Users/julian/temp/perfusion_data_sets/with_prior/rescaled_with_ncct_dataset_with_core.npz'\n",
    "dataset_path = '/Users/julian/temp/perfusion_data_sets/isles_dataset/scaled_standardized_isles_data_set_with_core.npz'\n",
    "train_size = 0.7\n",
    "test_size = 0.15\n",
    "validation_size = 0.15\n",
    "split_seed = 42\n",
    "split = 'test'\n",
    "prior_channel = 5"
   ]
  },
  {
   "cell_type": "code",
   "execution_count": 47,
   "outputs": [],
   "source": [
    "ids = np.load(dataset_path, allow_pickle=True)['ids']\n",
    "\n",
    "dataset_indices = list(range(len(ids)))\n",
    "test_validation_size = test_size + validation_size\n",
    "train_indices, test_val_indices = train_test_split(dataset_indices, train_size=train_size, test_size=test_validation_size,\n",
    "                                                   random_state=split_seed)\n",
    "test_indices, validation_indices = train_test_split(test_val_indices, train_size=test_size/test_validation_size,\n",
    "                                                     test_size=validation_size/test_validation_size, random_state=split_seed)\n",
    "\n",
    "# if split == 'train':\n",
    "#     self.split_indices = train_indices\n",
    "if split == 'test':\n",
    "    split_indices = test_indices\n",
    "if split == 'validation':\n",
    "    split_indices = validation_indices\n",
    "\n",
    "ids = ids[split_indices]\n",
    "\n",
    "raw_images = np.load(dataset_path, allow_pickle=True)['ct_inputs'][split_indices].astype(np.int16)\n",
    "raw_labels = np.load(dataset_path, allow_pickle=True)['ct_lesion_GT'][split_indices].astype(np.uint8)\n"
   ],
   "metadata": {
    "collapsed": false,
    "pycharm": {
     "name": "#%%\n"
    }
   }
  },
  {
   "cell_type": "code",
   "execution_count": 48,
   "outputs": [],
   "source": [
    "raw_priors = raw_images[..., prior_channel]"
   ],
   "metadata": {
    "collapsed": false,
    "pycharm": {
     "name": "#%%\n"
    }
   }
  },
  {
   "cell_type": "code",
   "execution_count": 49,
   "outputs": [],
   "source": [
    "dice_scores = []\n",
    "precision_scores = []\n",
    "recall_scores = []\n",
    "specificity_scores = []\n",
    "\n",
    "for subj in range(len(ids)):\n",
    "    dice_scores.append(single_class_dice_score(raw_priors[subj], raw_labels[subj]))\n",
    "    precision_scores.append(precision_score(raw_priors[subj].flatten(), raw_labels[subj].flatten()))\n",
    "    recall_scores.append(recall_score(raw_priors[subj].flatten(), raw_labels[subj].flatten()))\n",
    "    specificity_scores.append(specificity(raw_priors[subj].flatten(), raw_labels[subj].flatten()))\n"
   ],
   "metadata": {
    "collapsed": false,
    "pycharm": {
     "name": "#%%\n"
    }
   }
  },
  {
   "cell_type": "code",
   "execution_count": 50,
   "outputs": [
    {
     "name": "stdout",
     "output_type": "stream",
     "text": [
      "dice 0.2959120653561321 0.25606167900244475 0.2709517954887014\n",
      "precision_scores 0.25141030213719545 0.22167510104063595 0.24236204931182975\n",
      "recall_scores 0.37436987311216974 0.306628812826276 0.3116131197142646\n",
      "specificity_scores 0.6860621654153304 0.3796887221717536 0.936836173076069\n"
     ]
    }
   ],
   "source": [
    "print('dice', np.mean(dice_scores), np.std(dice_scores), np.median(dice_scores))\n",
    "print('precision_scores',np.mean(precision_scores), np.std(precision_scores), np.median(precision_scores))\n",
    "print('recall_scores',np.mean(recall_scores), np.std(recall_scores), np.median(recall_scores))\n",
    "print('specificity_scores',np.mean(specificity_scores), np.std(specificity_scores), np.median(specificity_scores))"
   ],
   "metadata": {
    "collapsed": false,
    "pycharm": {
     "name": "#%%\n"
    }
   }
  },
  {
   "cell_type": "code",
   "execution_count": 51,
   "outputs": [
    {
     "data": {
      "text/plain": "'test'"
     },
     "execution_count": 51,
     "metadata": {},
     "output_type": "execute_result"
    }
   ],
   "source": [],
   "metadata": {
    "collapsed": false,
    "pycharm": {
     "name": "#%%\n"
    }
   }
  },
  {
   "cell_type": "code",
   "execution_count": null,
   "outputs": [],
   "source": [
    "\n"
   ],
   "metadata": {
    "collapsed": false,
    "pycharm": {
     "name": "#%%\n"
    }
   }
  }
 ],
 "metadata": {
  "kernelspec": {
   "display_name": "Python 3",
   "language": "python",
   "name": "python3"
  },
  "language_info": {
   "codemirror_mode": {
    "name": "ipython",
    "version": 2
   },
   "file_extension": ".py",
   "mimetype": "text/x-python",
   "name": "python",
   "nbconvert_exporter": "python",
   "pygments_lexer": "ipython2",
   "version": "2.7.6"
  }
 },
 "nbformat": 4,
 "nbformat_minor": 0
}